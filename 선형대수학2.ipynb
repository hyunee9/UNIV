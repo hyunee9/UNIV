{
  "nbformat": 4,
  "nbformat_minor": 0,
  "metadata": {
    "colab": {
      "provenance": [],
      "gpuType": "T4",
      "mount_file_id": "1Ck-vnJ2ijIBB5tMCFeBEiTUg_Le1i9Za",
      "authorship_tag": "ABX9TyNupql9l2FlT34wFiMxVrmG",
      "include_colab_link": true
    },
    "kernelspec": {
      "name": "python3",
      "display_name": "Python 3"
    },
    "language_info": {
      "name": "python"
    },
    "accelerator": "GPU"
  },
  "cells": [
    {
      "cell_type": "markdown",
      "metadata": {
        "id": "view-in-github",
        "colab_type": "text"
      },
      "source": [
        "<a href=\"https://colab.research.google.com/github/hyunee9/UNIV./blob/main/%EC%84%A0%ED%98%95%EB%8C%80%EC%88%98%ED%95%992.ipynb\" target=\"_parent\"><img src=\"https://colab.research.google.com/assets/colab-badge.svg\" alt=\"Open In Colab\"/></a>"
      ]
    },
    {
      "cell_type": "code",
      "execution_count": null,
      "metadata": {
        "colab": {
          "base_uri": "https://localhost:8080/"
        },
        "id": "IBgpMei2FIYt",
        "outputId": "340e2abd-9ea7-4278-9ed9-108593d97405"
      },
      "outputs": [
        {
          "output_type": "stream",
          "name": "stdout",
          "text": [
            "Hello, world\n",
            "정수: 3, 03, 003, 0003, 00003\n",
            "실수: 256, 256.1, 256.12\n",
            "문자열: [Hello, world]\n"
          ]
        }
      ],
      "source": [
        "#프린트\n",
        "\n",
        "print(\"Hello, world\")\n",
        "\n",
        "#integer\n",
        "x = 3\n",
        "print(\"정수: %01d, %02d, %03d, %04d, %05d\" % (x,x,x,x,x))\n",
        "\n",
        "#float\n",
        "x = 256.123\n",
        "print(\"실수: %.f, %.1f, %.2f\" % (x,x,x))\n",
        "\n",
        "#string\n",
        "x = \"Hello, world\"\n",
        "print(\"문자열: [%s]\" % (x))\n"
      ]
    },
    {
      "cell_type": "code",
      "source": [
        "#반복문, 조건문\n",
        "\n",
        "contents = [\"Regression\", \"Classification\", \"SYM\", \"Clustering\",\"Dimension reduction\", \"NN\", \"CNN\", \"AE\", \"GAN\", \"RNN\"]\n",
        "for con in contents:\n",
        "  if con in [\"Regression\", \"Classification\", \"SYM\", \"Clustering\",\"Dimension reduction\"]:\n",
        "    print(\"%s 은(는) 기계학습 내용입니다.\" %con)\n",
        "  elif con in [\"CON\"]:\n",
        "    print(\"%s 은(는) convolutional neural network 입니다.\" %con)\n",
        "  else:\n",
        "    print(\"%s 은(는) 심층학습 내용입니다.\" %con)"
      ],
      "metadata": {
        "colab": {
          "base_uri": "https://localhost:8080/"
        },
        "id": "7O87YRlVUIYB",
        "outputId": "e7d84fd8-8e3c-4aa4-ad76-2490da84904b"
      },
      "execution_count": null,
      "outputs": [
        {
          "output_type": "stream",
          "name": "stdout",
          "text": [
            "Regression 은(는) 기계학습 내용입니다.\n",
            "Classification 은(는) 기계학습 내용입니다.\n",
            "SYM 은(는) 기계학습 내용입니다.\n",
            "Clustering 은(는) 기계학습 내용입니다.\n",
            "Dimension reduction 은(는) 기계학습 내용입니다.\n",
            "NN 은(는) 심층학습 내용입니다.\n",
            "CNN 은(는) 심층학습 내용입니다.\n",
            "AE 은(는) 심층학습 내용입니다.\n",
            "GAN 은(는) 심층학습 내용입니다.\n",
            "RNN 은(는) 심층학습 내용입니다.\n"
          ]
        }
      ]
    },
    {
      "cell_type": "code",
      "source": [
        "#반복문과 인덱스\n",
        "for (i,con) in enumerate(contents):\n",
        "  print(\"[%d/%d]: %s\" %(i, len(contents), con))"
      ],
      "metadata": {
        "colab": {
          "base_uri": "https://localhost:8080/"
        },
        "id": "uxv-4kAOVFd8",
        "outputId": "03d87abd-9f82-4e1f-baa9-e49bb4b8e344"
      },
      "execution_count": null,
      "outputs": [
        {
          "output_type": "stream",
          "name": "stdout",
          "text": [
            "[0/10]: Regression\n",
            "[1/10]: Classification\n",
            "[2/10]: SYM\n",
            "[3/10]: Clustering\n",
            "[4/10]: Dimension reduction\n",
            "[5/10]: NN\n",
            "[6/10]: CNN\n",
            "[7/10]: AE\n",
            "[8/10]: GAN\n",
            "[9/10]: RNN\n"
          ]
        }
      ]
    },
    {
      "cell_type": "code",
      "source": [
        "#함수\n",
        "\n",
        "def sum(a,b):\n",
        "  return a+b\n",
        "\n",
        "  x = 10.0\n",
        "  y = 20.0\n",
        "  print(\"%.1f + %.1f = %.1f\" % (x, y, sum(x,y)))"
      ],
      "metadata": {
        "id": "NY2OdAx8VoZU"
      },
      "execution_count": null,
      "outputs": []
    },
    {
      "cell_type": "code",
      "source": [
        "#리스트\n",
        "\n",
        "a =  []\n",
        "b = [1,2,3]\n",
        "c = [\"Hello\", \",\", \"world\"]\n",
        "d = [1,2,3,\"x\", \"y\", \"z\"]\n",
        "x = []\n",
        "print(x)\n",
        "\n",
        "x.append('a')\n",
        "print(x)\n",
        "\n",
        "x.append(123)\n",
        "print(x)\n",
        "\n",
        "x.append([\"a\", \"b\"])\n",
        "print(x)"
      ],
      "metadata": {
        "colab": {
          "base_uri": "https://localhost:8080/"
        },
        "id": "rg-ffHC4WG7g",
        "outputId": "238ec8a7-ae0a-4b64-fcab-fd33a21ff029"
      },
      "execution_count": null,
      "outputs": [
        {
          "output_type": "stream",
          "name": "stdout",
          "text": [
            "[]\n",
            "['a']\n",
            "['a', 123]\n",
            "['a', 123, ['a', 'b']]\n"
          ]
        }
      ]
    },
    {
      "cell_type": "code",
      "source": [
        "#딕셔너리\n",
        "\n",
        "dic = dict()\n",
        "dic[\"name\"] = \"Daesik\"\n",
        "dic[\"town\"] = \"Yonghin city\"\n",
        "dic[\"job\"] = \"Assistant professor\"\n",
        "print(dic)"
      ],
      "metadata": {
        "colab": {
          "base_uri": "https://localhost:8080/"
        },
        "id": "JDkgwQ03WzA4",
        "outputId": "4b20e35c-a937-4857-c70a-1fc713341aaa"
      },
      "execution_count": null,
      "outputs": [
        {
          "output_type": "stream",
          "name": "stdout",
          "text": [
            "{'name': 'Daesik', 'town': 'Yonghin city', 'job': 'Assistant professor'}\n"
          ]
        }
      ]
    },
    {
      "cell_type": "code",
      "source": [
        "#클래스\n",
        "\n",
        "class Student:\n",
        "  #생성자\n",
        "  def __init__(self, name):\n",
        "    self.name = name\n",
        "    #메써드\n",
        "    def study(self, hard=False):\n",
        "      if hard:\n",
        "        print(\"%s 학생은 열심히 공부합니다.\" %self.name)\n",
        "      else: pirnt(\"%s 학생은 공부합니다.\" %self.name)\n",
        "\n",
        "      s = Student('Daesik')\n",
        "      s.study()\n",
        "      s.study(hard=True)"
      ],
      "metadata": {
        "id": "O0H0sHqfXNki"
      },
      "execution_count": null,
      "outputs": []
    }
  ]
}